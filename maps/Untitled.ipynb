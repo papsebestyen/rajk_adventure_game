{
 "cells": [
  {
   "cell_type": "code",
   "execution_count": null,
   "metadata": {},
   "outputs": [],
   "source": [
    "with open(f\"maps/{file_name}.txt\") as map_file:\n",
    "            \n",
    "            for line in map_file:\n",
    "                tiles = []\n",
    "\n",
    "                for i in range(0, len(line), 2):\n",
    "                    tiles.append(line[i])\n",
    "                \n",
    "                if is_object:\n",
    "                    self.map_objects.append(tiles)\n",
    "                else:\n",
    "                    self.map.append(tiles)\n",
    "\n",
    "            print(self.map)"
   ]
  },
  {
   "cell_type": "code",
   "execution_count": 16,
   "metadata": {
    "ExecuteTime": {
     "end_time": "2020-12-02T09:12:17.957762Z",
     "start_time": "2020-12-02T09:12:17.945765Z"
    }
   },
   "outputs": [
    {
     "name": "stdout",
     "output_type": "stream",
     "text": [
      "[('S', '-'), ('S', '-'), ('S', '-'), ('S', '-'), ('S', '-'), ('S', '-'), ('S', '-'), ('S', '-'), ('S', '-'), ('S', '-'), ('S', '-'), ('S', '-'), ('S', '-')]\n",
      "[('S', '-'), ('S', '-'), ('S', '-'), ('S', '-'), ('S', '-'), ('S', '-'), ('S', '-'), ('S', '-'), ('S', '-'), ('S', '-'), ('S', '-'), ('S', '-'), ('S', '-')]\n",
      "[('S', '-'), ('S', '-'), ('S', '-'), ('S', '-'), ('S', '-'), ('S', '-'), ('S', '-'), ('S', '-'), ('S', '-'), ('S', '-'), ('S', '-'), ('S', '-'), ('S', '-')]\n",
      "[('S', '-'), ('S', '-'), ('S', '-'), ('S', '-'), ('S', '-'), ('S', '-'), ('S', '-'), ('S', '-'), ('S', '-'), ('S', '-'), ('S', '-'), ('S', '-'), ('S', '-')]\n",
      "[('S', '-'), ('S', '-'), ('S', '1'), ('S', '2'), ('S', '3'), ('S', '-'), ('S', '-'), ('S', '-'), ('S', '1'), ('S', '2'), ('S', '3'), ('S', '-'), ('S', '-')]\n",
      "[('S', '-'), ('S', '-'), ('S', '-'), ('S', '-'), ('S', '-'), ('S', '-'), ('S', '-'), ('S', '-'), ('S', '-'), ('S', '-'), ('S', '-'), ('S', '-'), ('S', '-')]\n",
      "[('S', '-'), ('S', '-'), ('S', '-'), ('S', '-'), ('S', '-'), ('S', '-'), ('S', '-'), ('S', '-'), ('S', '-'), ('S', '-'), ('S', '-'), ('S', '4'), ('S', '5')]\n",
      "[('S', '-'), ('S', '-'), ('S', '-'), ('S', '-'), ('S', '-'), ('S', '-'), ('S', '-'), ('S', '-'), ('S', '-'), ('S', '-'), ('S', '-'), ('S', '6'), ('S', '7')]\n",
      "[('S', '-'), ('S', '-'), ('S', '-'), ('S', '-'), ('S', '-'), ('S', '-'), ('S', '-'), ('S', '-'), ('S', '-'), ('S', '-'), ('S', '-'), ('S', '-'), ('S', '-')]\n",
      "[('S', '-'), ('S', '-'), ('S', '-'), ('S', '-'), ('S', '-'), ('S', '-'), ('S', '-'), ('S', '-'), ('S', '-'), ('S', '-'), ('S', '-'), ('S', '-'), ('S', '-')]\n",
      "[('S', '-'), ('S', '-'), ('S', '-'), ('S', '-'), ('S', '-'), ('S', '-'), ('S', '-'), ('S', '-'), ('S', '-'), ('S', '-'), ('S', '-'), ('S', '-'), ('S', '-')]\n",
      "[('S', '-'), ('S', '-'), ('S', '-'), ('S', '-'), ('S', '-'), ('S', '-'), ('S', '-'), ('S', '-'), ('S', '-'), ('S', '-'), ('S', '-'), ('S', '-'), ('S', '-')]\n",
      "[('S', '-'), ('S', '-'), ('S', '1'), ('S', '2'), ('S', '3'), ('S', '-'), ('S', '-'), ('S', '-'), ('S', '1'), ('S', '2'), ('S', '3'), ('S', '-'), ('S', '-')]\n",
      "[('S', '-'), ('S', '-'), ('S', '-'), ('S', '-'), ('S', '-'), ('S', '-'), ('S', '-'), ('S', '-'), ('S', '-'), ('S', '-'), ('S', '-'), ('S', '-'), ('S', '-')]\n",
      "[('S', '8'), ('S', '9'), ('S', '-'), ('S', '-'), ('S', '-'), ('S', '-'), ('S', '-'), ('S', '-'), ('S', '-'), ('S', '-'), ('S', '-'), ('S', '8'), ('S', '9')]\n",
      "[('S', '8'), ('S', '9'), ('S', '-'), ('S', '-'), ('S', '-'), ('S', '-'), ('S', '-'), ('S', '-'), ('S', '-'), ('S', '-'), ('S', '-'), ('S', '8'), ('S', '9')]\n"
     ]
    }
   ],
   "source": [
    "with open(\"garden.txt\") as map_file:\n",
    "    with open(\"garden_objects.txt\") as map_objects_file:\n",
    "        \n",
    "        map = [[(map_tile, object_tile) for map_tile, object_tile in zip(map_line.split(), object_line.split())] for map_line, object_line in zip(map_file, map_objects_file)]"
   ]
  },
  {
   "cell_type": "code",
   "execution_count": 10,
   "metadata": {
    "ExecuteTime": {
     "end_time": "2020-12-02T09:07:06.791845Z",
     "start_time": "2020-12-02T09:07:06.785855Z"
    }
   },
   "outputs": [
    {
     "data": {
      "text/plain": [
       "['S', 'S', 'S', 'S', 'S', 'S', 'S', 'S', 'S', 'S', 'S', 'S', 'S']"
      ]
     },
     "execution_count": 10,
     "metadata": {},
     "output_type": "execute_result"
    }
   ],
   "source": [
    "map_line.split()"
   ]
  }
 ],
 "metadata": {
  "hide_input": false,
  "kernelspec": {
   "display_name": "Python 3",
   "language": "python",
   "name": "python3"
  },
  "language_info": {
   "codemirror_mode": {
    "name": "ipython",
    "version": 3
   },
   "file_extension": ".py",
   "mimetype": "text/x-python",
   "name": "python",
   "nbconvert_exporter": "python",
   "pygments_lexer": "ipython3",
   "version": "3.8.6"
  },
  "toc": {
   "base_numbering": 1,
   "nav_menu": {},
   "number_sections": true,
   "sideBar": true,
   "skip_h1_title": false,
   "title_cell": "Table of Contents",
   "title_sidebar": "Contents",
   "toc_cell": false,
   "toc_position": {},
   "toc_section_display": true,
   "toc_window_display": false
  },
  "varInspector": {
   "cols": {
    "lenName": 16,
    "lenType": 16,
    "lenVar": 40
   },
   "kernels_config": {
    "python": {
     "delete_cmd_postfix": "",
     "delete_cmd_prefix": "del ",
     "library": "var_list.py",
     "varRefreshCmd": "print(var_dic_list())"
    },
    "r": {
     "delete_cmd_postfix": ") ",
     "delete_cmd_prefix": "rm(",
     "library": "var_list.r",
     "varRefreshCmd": "cat(var_dic_list()) "
    }
   },
   "types_to_exclude": [
    "module",
    "function",
    "builtin_function_or_method",
    "instance",
    "_Feature"
   ],
   "window_display": false
  }
 },
 "nbformat": 4,
 "nbformat_minor": 4
}
